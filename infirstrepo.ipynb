{
 "cells": [
  {
   "cell_type": "code",
   "execution_count": 4,
   "id": "ebf46c75",
   "metadata": {},
   "outputs": [
    {
     "name": "stdout",
     "output_type": "stream",
     "text": [
      "R u hungry0yes\n",
      "eat it\n"
     ]
    }
   ],
   "source": [
    "hungry=input(\"R u hungry0\")\n",
    "if hungry=='yes':\n",
    "    print(\"eat it\")\n",
    "else:\n",
    "    print(\"bas tasch\")"
   ]
  },
  {
   "cell_type": "code",
   "execution_count": null,
   "id": "5f4411f2",
   "metadata": {},
   "outputs": [],
   "source": []
  }
 ],
 "metadata": {
  "kernelspec": {
   "display_name": "Python 3 (ipykernel)",
   "language": "python",
   "name": "python3"
  },
  "language_info": {
   "codemirror_mode": {
    "name": "ipython",
    "version": 3
   },
   "file_extension": ".py",
   "mimetype": "text/x-python",
   "name": "python",
   "nbconvert_exporter": "python",
   "pygments_lexer": "ipython3",
   "version": "3.9.7"
  }
 },
 "nbformat": 4,
 "nbformat_minor": 5
}
